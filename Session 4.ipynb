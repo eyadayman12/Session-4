{
 "cells": [
  {
   "cell_type": "markdown",
   "id": "b56d7e5d",
   "metadata": {},
   "source": [
    "# Data Structure"
   ]
  },
  {
   "cell_type": "markdown",
   "id": "a859b64c",
   "metadata": {},
   "source": [
    "1. Array (static DS) fastest ever <br>\n",
    "2. linked list family (circular LL, doubly Linked, circular doubly)\n",
    "3. Stack\n",
    "4. Queue\n",
    "5. Priority Queue\n",
    "6. deQueue\n",
    "7. Set\n",
    "8. Map\n",
    "9. Graphs\n",
    "10. Trees"
   ]
  },
  {
   "cell_type": "code",
   "execution_count": 1,
   "id": "21f9e59e",
   "metadata": {
    "ExecuteTime": {
     "end_time": "2021-08-20T22:37:36.647146Z",
     "start_time": "2021-08-20T22:37:36.635117Z"
    }
   },
   "outputs": [],
   "source": [
    "import queue"
   ]
  },
  {
   "cell_type": "code",
   "execution_count": 2,
   "id": "eb3321fd",
   "metadata": {
    "ExecuteTime": {
     "end_time": "2021-08-20T22:37:36.664931Z",
     "start_time": "2021-08-20T22:37:36.654128Z"
    }
   },
   "outputs": [],
   "source": [
    "stack = queue.LifoQueue() # Last in First out (stack)"
   ]
  },
  {
   "cell_type": "code",
   "execution_count": 3,
   "id": "a365e2c4",
   "metadata": {
    "ExecuteTime": {
     "end_time": "2021-08-20T22:37:36.689135Z",
     "start_time": "2021-08-20T22:37:36.671156Z"
    }
   },
   "outputs": [],
   "source": [
    "stack.put(1)\n",
    "stack.put(4)\n",
    "stack.put(6)\n",
    "stack.put(7)\n",
    "stack.put(8)"
   ]
  },
  {
   "cell_type": "code",
   "execution_count": 4,
   "id": "bd31a046",
   "metadata": {
    "ExecuteTime": {
     "end_time": "2021-08-20T22:37:36.734810Z",
     "start_time": "2021-08-20T22:37:36.695119Z"
    }
   },
   "outputs": [
    {
     "data": {
      "text/plain": [
       "8"
      ]
     },
     "execution_count": 4,
     "metadata": {},
     "output_type": "execute_result"
    }
   ],
   "source": [
    "stack.get()"
   ]
  },
  {
   "cell_type": "code",
   "execution_count": 5,
   "id": "cbbac2f4",
   "metadata": {
    "ExecuteTime": {
     "end_time": "2021-08-20T22:37:36.756495Z",
     "start_time": "2021-08-20T22:37:36.740789Z"
    }
   },
   "outputs": [],
   "source": [
    "stack.put(9)"
   ]
  },
  {
   "cell_type": "code",
   "execution_count": null,
   "id": "2af9cbb0",
   "metadata": {
    "ExecuteTime": {
     "start_time": "2021-08-20T22:37:36.637Z"
    }
   },
   "outputs": [
    {
     "name": "stdout",
     "output_type": "stream",
     "text": [
      "9\n",
      "7\n",
      "6\n",
      "4\n",
      "1\n"
     ]
    }
   ],
   "source": [
    "while(stack.qsize != 0):\n",
    "    print(stack.get())"
   ]
  },
  {
   "cell_type": "code",
   "execution_count": null,
   "id": "0e3d8407",
   "metadata": {
    "ExecuteTime": {
     "start_time": "2021-08-20T22:37:36.640Z"
    }
   },
   "outputs": [],
   "source": [
    "def printStack(stack):\n",
    "    while(stack.qsize != 0):\n",
    "        print(stack.get())"
   ]
  },
  {
   "cell_type": "code",
   "execution_count": null,
   "id": "a6162695",
   "metadata": {
    "ExecuteTime": {
     "start_time": "2021-08-20T22:37:36.644Z"
    }
   },
   "outputs": [],
   "source": [
    "stack.put(4)\n",
    "stack.put(7)\n",
    "stack.put(11)"
   ]
  },
  {
   "cell_type": "code",
   "execution_count": null,
   "id": "03a8e6dd",
   "metadata": {
    "ExecuteTime": {
     "start_time": "2021-08-20T22:37:36.648Z"
    },
    "scrolled": true
   },
   "outputs": [],
   "source": [
    "printStack(stack)"
   ]
  },
  {
   "cell_type": "code",
   "execution_count": null,
   "id": "94d608ad",
   "metadata": {
    "ExecuteTime": {
     "start_time": "2021-08-20T22:37:36.654Z"
    }
   },
   "outputs": [],
   "source": [
    "pq = queue.PriorityQueue()\n",
    "pq.put(4)\n",
    "pq.put(2)\n",
    "pq.put(1)\n",
    "pq.put(3)\n",
    "pq.put(55)\n",
    "pq.put(12)"
   ]
  },
  {
   "cell_type": "code",
   "execution_count": null,
   "id": "eeb493ff",
   "metadata": {
    "ExecuteTime": {
     "start_time": "2021-08-20T22:37:36.659Z"
    }
   },
   "outputs": [],
   "source": [
    "printStack(pq)"
   ]
  },
  {
   "cell_type": "code",
   "execution_count": null,
   "id": "a60eafe8",
   "metadata": {
    "ExecuteTime": {
     "start_time": "2021-08-20T22:37:36.664Z"
    }
   },
   "outputs": [],
   "source": [
    "dequ = queue.deque()"
   ]
  },
  {
   "cell_type": "code",
   "execution_count": null,
   "id": "c94dfceb",
   "metadata": {
    "ExecuteTime": {
     "start_time": "2021-08-20T22:37:36.667Z"
    }
   },
   "outputs": [],
   "source": [
    "dequ.append(1)"
   ]
  },
  {
   "cell_type": "code",
   "execution_count": null,
   "id": "502d6514",
   "metadata": {
    "ExecuteTime": {
     "start_time": "2021-08-20T22:37:36.671Z"
    }
   },
   "outputs": [],
   "source": [
    "dequ[0]"
   ]
  },
  {
   "cell_type": "code",
   "execution_count": null,
   "id": "9590bfcc",
   "metadata": {
    "ExecuteTime": {
     "start_time": "2021-08-20T22:37:36.676Z"
    }
   },
   "outputs": [],
   "source": [
    "dequ.insert(0,12)\n",
    "dequ[0]"
   ]
  },
  {
   "cell_type": "code",
   "execution_count": null,
   "id": "c7d8d822",
   "metadata": {
    "ExecuteTime": {
     "start_time": "2021-08-20T22:37:36.680Z"
    }
   },
   "outputs": [],
   "source": [
    "for i in dequ:\n",
    "    print(i)"
   ]
  },
  {
   "cell_type": "code",
   "execution_count": null,
   "id": "82d7d6c5",
   "metadata": {
    "ExecuteTime": {
     "start_time": "2021-08-20T22:37:36.684Z"
    }
   },
   "outputs": [],
   "source": [
    "len(dequ)"
   ]
  },
  {
   "cell_type": "code",
   "execution_count": null,
   "id": "81eaca74",
   "metadata": {
    "ExecuteTime": {
     "start_time": "2021-08-20T22:37:36.687Z"
    }
   },
   "outputs": [],
   "source": [
    "myList = [1,12,3,1,2,3,4,5,6,3,2,1]"
   ]
  },
  {
   "cell_type": "code",
   "execution_count": null,
   "id": "f80dcb17",
   "metadata": {
    "ExecuteTime": {
     "start_time": "2021-08-20T22:37:36.692Z"
    }
   },
   "outputs": [],
   "source": [
    "unoset = queue.PriorityQueue()\n",
    "for i in myList:\n",
    "    unoset.put(i)"
   ]
  },
  {
   "cell_type": "code",
   "execution_count": null,
   "id": "5cb93698",
   "metadata": {
    "ExecuteTime": {
     "start_time": "2021-08-20T22:37:36.696Z"
    }
   },
   "outputs": [],
   "source": [
    "unorderset = []\n",
    "while unoset.qsize != 0:\n",
    "    unorderset.append(unoset.get())\n",
    "for i in unorderset:\n",
    "    print(i)"
   ]
  },
  {
   "cell_type": "code",
   "execution_count": null,
   "id": "f301b7b4",
   "metadata": {
    "ExecuteTime": {
     "start_time": "2021-08-20T22:37:36.700Z"
    }
   },
   "outputs": [],
   "source": [
    "import bisect"
   ]
  },
  {
   "cell_type": "code",
   "execution_count": null,
   "id": "b4e0aabc",
   "metadata": {
    "ExecuteTime": {
     "start_time": "2021-08-20T22:37:36.706Z"
    }
   },
   "outputs": [],
   "source": [
    "#binary search : return index of element\n",
    "a = [1,3,4,5,7,8,9,11,12,16,20]\n",
    "def binarySearch(myList, element):\n",
    "    x = bisect.bisect_left(myList, element)\n",
    "    if (myList[x] != element):\n",
    "        print(\"Not Found\")\n",
    "    else:\n",
    "        print(f\"{element} was found at index {x}\")"
   ]
  },
  {
   "cell_type": "code",
   "execution_count": null,
   "id": "747dc748",
   "metadata": {
    "ExecuteTime": {
     "start_time": "2021-08-20T22:37:36.712Z"
    }
   },
   "outputs": [],
   "source": [
    "binarySearch(a, 8)"
   ]
  },
  {
   "cell_type": "code",
   "execution_count": null,
   "id": "5c8758ad",
   "metadata": {
    "ExecuteTime": {
     "start_time": "2021-08-20T22:37:36.716Z"
    }
   },
   "outputs": [],
   "source": [
    "binarySearch(a, 19)"
   ]
  },
  {
   "cell_type": "code",
   "execution_count": null,
   "id": "9ba2ae2f",
   "metadata": {},
   "outputs": [],
   "source": []
  }
 ],
 "metadata": {
  "kernelspec": {
   "display_name": "Python 3",
   "language": "python",
   "name": "python3"
  },
  "language_info": {
   "codemirror_mode": {
    "name": "ipython",
    "version": 3
   },
   "file_extension": ".py",
   "mimetype": "text/x-python",
   "name": "python",
   "nbconvert_exporter": "python",
   "pygments_lexer": "ipython3",
   "version": "3.8.8"
  },
  "toc": {
   "base_numbering": 1,
   "nav_menu": {},
   "number_sections": true,
   "sideBar": true,
   "skip_h1_title": false,
   "title_cell": "Table of Contents",
   "title_sidebar": "Contents",
   "toc_cell": false,
   "toc_position": {},
   "toc_section_display": true,
   "toc_window_display": false
  }
 },
 "nbformat": 4,
 "nbformat_minor": 5
}
